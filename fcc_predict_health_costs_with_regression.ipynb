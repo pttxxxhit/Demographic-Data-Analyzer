{
  "cells": [
    {
      "cell_type": "markdown",
      "metadata": {
        "id": "view-in-github",
        "colab_type": "text"
      },
      "source": [
        "<a href=\"https://colab.research.google.com/github/pttxxxhit/Demographic-Data-Analyzer/blob/main/fcc_predict_health_costs_with_regression.ipynb\" target=\"_parent\"><img src=\"https://colab.research.google.com/assets/colab-badge.svg\" alt=\"Open In Colab\"/></a>"
      ]
    },
    {
      "cell_type": "code",
      "execution_count": null,
      "metadata": {
        "id": "1rRo8oNqZ-Rj"
      },
      "outputs": [],
      "source": [
        "# Import libraries. You may or may not use all of these.\n",
        "!pip install -q git+https://github.com/tensorflow/docs\n",
        "import matplotlib.pyplot as plt\n",
        "import numpy as np\n",
        "import pandas as pd\n",
        "\n",
        "try:\n",
        "  # %tensorflow_version only exists in Colab.\n",
        "  %tensorflow_version 2.x\n",
        "except Exception:\n",
        "  pass\n",
        "import tensorflow as tf\n",
        "\n",
        "from tensorflow import keras\n",
        "from tensorflow.keras import layers\n",
        "\n",
        "import tensorflow_docs as tfdocs\n",
        "import tensorflow_docs.plots\n",
        "import tensorflow_docs.modeling"
      ]
    },
    {
      "cell_type": "code",
      "execution_count": null,
      "metadata": {
        "id": "CiX2FI4gZtTt"
      },
      "outputs": [],
      "source": [
        "# Import data\n",
        "!wget https://cdn.freecodecamp.org/project-data/health-costs/insurance.csv\n",
        "dataset = pd.read_csv('insurance.csv')\n",
        "dataset.tail()"
      ]
    },
    {
      "cell_type": "code",
      "execution_count": null,
      "metadata": {
        "id": "LcopvQh3X-kX"
      },
      "outputs": [],
      "source": [
        "from sklearn.model_selection import train_test_split\n",
        "from sklearn.linear_model import LinearRegression\n",
        "from sklearn.metrics import mean_absolute_error\n",
        "\n",
        "# 3.1) Convertir columnas de texto a números\n",
        "dataset['sex']    = dataset['sex'].map({'male':0, 'female':1})\n",
        "dataset['smoker'] = dataset['smoker'].map({'no':0, 'yes':1})\n",
        "dataset['region'] = dataset['region'].map({\n",
        "    'southwest':0, 'southeast':1,\n",
        "    'northwest':2, 'northeast':3\n",
        "})\n",
        "\n",
        "# 3.2) Dividir 80% para entrenar y 20% para probar\n",
        "train_dataset, test_dataset = train_test_split(\n",
        "    dataset, test_size=0.2, random_state=42\n",
        ")\n",
        "\n",
        "# 3.3) Separar la columna de gastos ('charges') como etiqueta\n",
        "train_labels = train_dataset.pop('expenses')\n",
        "test_labels  = test_dataset.pop('expenses')\n",
        "\n",
        "# Mostrar tamaños finales\n",
        "print(\"Entrenamiento:\", train_dataset.shape, \"Etiquetas:\", train_labels.shape)\n",
        "print(\"Prueba:       \", test_dataset.shape,  \"Etiquetas:\", test_labels.shape)"
      ]
    },
    {
      "cell_type": "markdown",
      "metadata": {
        "id": "16a91f82"
      },
      "source": [
        "### 3. Preprocesamiento y división de datos\n",
        "\n",
        "Esta sección se encarga de preparar los datos para el modelo de aprendizaje automático.\n",
        "\n",
        "1.  **Convertir columnas de texto a números**: Las columnas categóricas ('sexo', 'fumador', 'región') se convierten a valores numéricos para que el modelo pueda procesarlas.\n",
        "2.  **Dividir 80% para entrenar y 20% para probar**: Los datos se dividen en conjuntos de entrenamiento (80%) y prueba (20%) para evaluar el rendimiento del modelo en datos no vistos.\n",
        "3.  **Separar la columna de gastos ('expenses') como etiqueta**: La columna objetivo ('expenses') se separa de las características para el entrenamiento y la prueba."
      ]
    },
    {
      "cell_type": "markdown",
      "metadata": {
        "id": "c71e9471"
      },
      "source": [
        "### 4. Creación y entrenamiento del modelo\n",
        "\n",
        "Aquí se define y entrena el modelo de regresión lineal.\n",
        "\n",
        "1.  **Crear el modelo de regresión lineal**: Se inicializa un modelo de regresión lineal.\n",
        "2.  **Entrenar con los datos de entrenamiento**: El modelo se entrena utilizando los datos de entrenamiento y las etiquetas correspondientes.\n",
        "3.  **Ver qué tan bien aprendió (error en entrenamiento)**: Se calcula el error absoluto medio (MAE) en el conjunto de entrenamiento para evaluar qué tan bien el modelo se ajusta a los datos de entrenamiento."
      ]
    },
    {
      "cell_type": "markdown",
      "metadata": {
        "id": "7af98f7d"
      },
      "source": [
        "### 5. Evaluación y visualización del modelo\n",
        "\n",
        "Esta sección evalúa el modelo con el conjunto de prueba y visualiza las predicciones.\n",
        "\n",
        "-   **Evaluar el modelo**: Se calcula la pérdida, el error absoluto medio (MAE) y el error cuadrático medio (MSE) en el conjunto de prueba para evaluar el rendimiento del modelo en datos no vistos.\n",
        "-   **Graficar predicciones**: Se crea un gráfico de dispersión para visualizar las predicciones del modelo frente a los valores reales de los gastos en el conjunto de prueba. La línea diagonal representa las predicciones perfectas."
      ]
    },
    {
      "cell_type": "code",
      "source": [
        "# 4.1) Crear el modelo de regresión lineal\n",
        "model = LinearRegression()\n",
        "\n",
        "# 4.2) Entrenar con los datos de entrenamiento\n",
        "model.fit(train_dataset, train_labels)\n",
        "\n",
        "# 4.3) Ver qué tan bien aprendió (error en entrenamiento)\n",
        "train_preds = model.predict(train_dataset)\n",
        "train_mae   = mean_absolute_error(train_labels, train_preds)\n",
        "print(f\"MAE en entrenamiento: ${train_mae:.2f}\")"
      ],
      "metadata": {
        "id": "cjEUaC-IkYyP"
      },
      "execution_count": null,
      "outputs": []
    },
    {
      "cell_type": "code",
      "execution_count": null,
      "metadata": {
        "id": "Xe7RXH3N3CWU"
      },
      "outputs": [],
      "source": [
        "from sklearn.metrics import mean_absolute_error, mean_squared_error\n",
        "\n",
        "# RUN THIS CELL TO TEST YOUR MODEL. DO NOT MODIFY CONTENTS.\n",
        "# Test model by checking how well the model generalizes using the test set.\n",
        "test_predictions = model.predict(test_dataset)\n",
        "mae = mean_absolute_error(test_labels, test_predictions)\n",
        "mse = mean_squared_error(test_labels, test_predictions)\n",
        "\n",
        "\n",
        "print(\"Testing set Mean Abs Error: {:5.2f} expenses\".format(mae))\n",
        "\n",
        "if mae < 3500:\n",
        "  print(\"You passed the challenge. Great job!\")\n",
        "else:\n",
        "  print(\"The Mean Abs Error must be less than 3500. Keep trying.\")\n",
        "\n",
        "# Plot predictions.\n",
        "test_predictions = model.predict(test_dataset).flatten()\n",
        "\n",
        "a = plt.axes(aspect='equal')\n",
        "plt.scatter(test_labels, test_predictions)\n",
        "plt.xlabel('True values (expenses)')\n",
        "plt.ylabel('Predictions (expenses)')\n",
        "lims = [0, 50000]\n",
        "plt.xlim(lims)\n",
        "plt.ylim(lims)\n",
        "_ = plt.plot(lims,lims)"
      ]
    }
  ],
  "metadata": {
    "colab": {
      "name": "fcc_predict_health_costs_with_regression.ipynb",
      "private_outputs": true,
      "provenance": [],
      "toc_visible": true,
      "include_colab_link": true
    },
    "kernelspec": {
      "display_name": "Python 3",
      "name": "python3"
    }
  },
  "nbformat": 4,
  "nbformat_minor": 0
}